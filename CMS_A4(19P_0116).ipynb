{
  "nbformat": 4,
  "nbformat_minor": 0,
  "metadata": {
    "colab": {
      "provenance": []
    },
    "kernelspec": {
      "name": "python3",
      "display_name": "Python 3"
    },
    "language_info": {
      "name": "python"
    }
  },
  "cells": [
    {
      "cell_type": "markdown",
      "source": [
        "<h3><bold>Name: Muhammad Usman<br>\n",
        "Roll no: 19P-0116</bold></h3>"
      ],
      "metadata": {
        "id": "wF4jpaale0Gw"
      }
    },
    {
      "cell_type": "code",
      "source": [
        "import numpy as np\n",
        "import random\n",
        "from scipy import integrate\n",
        "import matplotlib.pyplot as plt"
      ],
      "metadata": {
        "id": "XVD5vB2ShJR3"
      },
      "execution_count": null,
      "outputs": []
    },
    {
      "cell_type": "markdown",
      "source": [
        "**1. The area between the curve for f (x) = √(cos<sup>2</sup>(x)+ 1) and the x-axis from x = 0 to x = 2.**"
      ],
      "metadata": {
        "id": "HwqHN2pRf3Ks"
      }
    },
    {
      "cell_type": "code",
      "source": [
        "def f_1(x):\n",
        "    return np.sqrt(np.cos(x)**2 + 1)"
      ],
      "metadata": {
        "id": "ENInumc7hSZX"
      },
      "execution_count": null,
      "outputs": []
    },
    {
      "cell_type": "markdown",
      "source": [
        "**(a)**"
      ],
      "metadata": {
        "id": "q9A29_Xlr86p"
      }
    },
    {
      "cell_type": "code",
      "execution_count": null,
      "metadata": {
        "colab": {
          "base_uri": "https://localhost:8080/",
          "height": 472
        },
        "id": "KZ3DELiyesC0",
        "outputId": "18899ecf-cb4a-473d-873c-0e65e23385c5"
      },
      "outputs": [
        {
          "output_type": "display_data",
          "data": {
            "text/plain": [
              "<Figure size 640x480 with 1 Axes>"
            ],
            "image/png": "[encoded data removed]"
          },
          "metadata": {}
        }
      ],
      "source": [
        "x = np.linspace(0, 2, 100)\n",
        "\n",
        "y = f_1(x)\n",
        "\n",
        "plt.plot(x, y)\n",
        "\n",
        "plt.xlabel('x')\n",
        "plt.ylabel('f(x)')\n",
        "plt.title('Plot of f(x) = √(cos²(x) + 1)')\n",
        "plt.grid(True)\n",
        "\n",
        "plt.show()"
      ]
    },
    {
      "cell_type": "markdown",
      "source": [
        "**(b)**"
      ],
      "metadata": {
        "id": "vos89T-xr3e6"
      }
    },
    {
      "cell_type": "code",
      "source": [
        "def monte_carlo_f_1(num_darts):\n",
        "  count = 0\n",
        "\n",
        "  for i in range(num_darts):\n",
        "    x = random.uniform(0, 2)\n",
        "    y = random.uniform(0, 1)\n",
        "\n",
        "    \n",
        "    if y <= f_1(x):\n",
        "      count += 1\n",
        "\n",
        "  area = (count / num_darts)\n",
        "  return area\n"
      ],
      "metadata": {
        "id": "7sSAVD7ZmIEV"
      },
      "execution_count": null,
      "outputs": []
    },
    {
      "cell_type": "markdown",
      "source": [
        "**(c)**"
      ],
      "metadata": {
        "id": "ZYwcS63brvWF"
      }
    },
    {
      "cell_type": "code",
      "source": [
        "area_f1 = monte_carlo_f_1(1000)\n",
        "print(area_f1)"
      ],
      "metadata": {
        "colab": {
          "base_uri": "https://localhost:8080/"
        },
        "id": "oCr6tORqq36_",
        "outputId": "85011036-b14c-4046-ffba-bbd50cdd4b55"
      },
      "execution_count": null,
      "outputs": [
        {
          "output_type": "stream",
          "name": "stdout",
          "text": [
            "1.0\n"
          ]
        }
      ]
    },
    {
      "cell_type": "markdown",
      "source": [
        "**(d)**"
      ],
      "metadata": {
        "id": "qQc-VXpNsZVZ"
      }
    },
    {
      "cell_type": "code",
      "source": [
        "area_f1_int, x = integrate.quad(f_1, 0, 2)\n",
        "print(area_f1_int)"
      ],
      "metadata": {
        "colab": {
          "base_uri": "https://localhost:8080/"
        },
        "id": "UtuPNr6Fscrm",
        "outputId": "0a88568d-a6c3-4ade-f273-9758ed83bcd5"
      },
      "execution_count": null,
      "outputs": [
        {
          "output_type": "stream",
          "name": "stdout",
          "text": [
            "2.3516888074007873\n"
          ]
        }
      ]
    },
    {
      "cell_type": "markdown",
      "source": [
        "**2. The area between the curve for f(x) = x<sup>2</sup>and the x-axis from x = 2 to x = 3.**"
      ],
      "metadata": {
        "id": "CraAd93Ehu3j"
      }
    },
    {
      "cell_type": "code",
      "source": [
        "def f_2(x):\n",
        "    return x**2"
      ],
      "metadata": {
        "id": "iU_yIINUiY-4"
      },
      "execution_count": null,
      "outputs": []
    },
    {
      "cell_type": "markdown",
      "source": [
        "**(a)**"
      ],
      "metadata": {
        "id": "tf0gXIAyuq5V"
      }
    },
    {
      "cell_type": "code",
      "source": [
        "x = np.linspace(2, 3, 100)\n",
        "\n",
        "y = f_2(x)\n",
        "\n",
        "plt.plot(x, y)\n",
        "\n",
        "plt.xlabel('x')\n",
        "plt.ylabel('f(x)')\n",
        "plt.title('Plot of f(x) = x²')\n",
        "plt.grid(True)\n",
        "\n",
        "plt.show()"
      ],
      "metadata": {
        "colab": {
          "base_uri": "https://localhost:8080/",
          "height": 472
        },
        "id": "7rsHQyjFhslf",
        "outputId": "45bfd240-990e-4d43-aca1-d055eb8645f8"
      },
      "execution_count": null,
      "outputs": [
        {
          "output_type": "display_data",
          "data": {
            "text/plain": [
              "<Figure size 640x480 with 1 Axes>"
            ],
            "image/png": "[encoded data removed]"
          },
          "metadata": {}
        }
      ]
    },
    {
      "cell_type": "markdown",
      "source": [
        "**(b)**"
      ],
      "metadata": {
        "id": "6D8XnCPyuu-5"
      }
    },
    {
      "cell_type": "code",
      "source": [
        "def monte_carlo_f_2(num_darts):\n",
        "  count = 0\n",
        "\n",
        "  for i in range(num_darts):\n",
        "    x = random.uniform(0, 3)\n",
        "    y = random.uniform(0, 2)\n",
        "\n",
        "    \n",
        "    if y <= f_2(x):\n",
        "      count += 1\n",
        "\n",
        "  area = (count / num_darts)\n",
        "  return area\n"
      ],
      "metadata": {
        "id": "kSXDLxHfux2q"
      },
      "execution_count": null,
      "outputs": []
    },
    {
      "cell_type": "markdown",
      "source": [
        "**(c)**"
      ],
      "metadata": {
        "id": "80CpHcQauyr-"
      }
    },
    {
      "cell_type": "code",
      "source": [
        "area_f2 = monte_carlo_f_2(1000)\n",
        "print(area_f2)"
      ],
      "metadata": {
        "colab": {
          "base_uri": "https://localhost:8080/"
        },
        "id": "CFVnJy-nu07S",
        "outputId": "1d56c0a1-aec5-4354-a07b-826ce2275023"
      },
      "execution_count": null,
      "outputs": [
        {
          "output_type": "stream",
          "name": "stdout",
          "text": [
            "0.682\n"
          ]
        }
      ]
    },
    {
      "cell_type": "markdown",
      "source": [
        "**(d)**"
      ],
      "metadata": {
        "id": "GeRPffpDu1f9"
      }
    },
    {
      "cell_type": "code",
      "source": [
        "area_f2_int, x = integrate.quad(f_1, 2, 3)\n",
        "print(area_f2_int)"
      ],
      "metadata": {
        "colab": {
          "base_uri": "https://localhost:8080/"
        },
        "id": "me0XebRwu4SX",
        "outputId": "4b5f5990-7048-469e-e218-d3cff8a7db34"
      },
      "execution_count": null,
      "outputs": [
        {
          "output_type": "stream",
          "name": "stdout",
          "text": [
            "1.2686004378117257\n"
          ]
        }
      ]
    },
    {
      "cell_type": "markdown",
      "source": [
        "**3. An estimate of <sub>2</sub>∫<sup>3</sup> sin(x<sup>2</sup>)dx. Note that the function is not entirely above or entirely\n",
        "below the x-axis, so we must adjust the algorithm studied in the class to estimate the\n",
        "integral. Recall that where a function is negative (below the x-axis), its integral is the\n",
        "negative of the area between the curve and the x-axis.**"
      ],
      "metadata": {
        "id": "3arVo1Vok8Ph"
      }
    },
    {
      "cell_type": "code",
      "source": [
        "def f_3(x):\n",
        "  return np.sin(x**2)"
      ],
      "metadata": {
        "id": "-Kkm1ykkjU7L"
      },
      "execution_count": null,
      "outputs": []
    },
    {
      "cell_type": "markdown",
      "source": [
        "**(a)**"
      ],
      "metadata": {
        "id": "xSDL6hEIxk9H"
      }
    },
    {
      "cell_type": "code",
      "source": [
        "x = np.linspace(2, 3, 100)\n",
        "y = f_3(x)\n",
        "\n",
        "plt.plot(x, y)\n",
        "\n",
        "plt.xlabel('x')\n",
        "plt.ylabel('₂∫³ sin(x²)dx')\n",
        "plt.title('Plot of ₂∫³ sin(x²)dx')\n",
        "plt.grid(True)\n",
        "\n",
        "plt.show()"
      ],
      "metadata": {
        "colab": {
          "base_uri": "https://localhost:8080/",
          "height": 472
        },
        "id": "pzsAsg-Yxndf",
        "outputId": "0ae0cdce-0de6-4796-fe55-8d81961b0caa"
      },
      "execution_count": null,
      "outputs": [
        {
          "output_type": "display_data",
          "data": {
            "text/plain": [
              "<Figure size 640x480 with 1 Axes>"
            ],
            "image/png": "[encoded data removed]"
          },
          "metadata": {}
        }
      ]
    },
    {
      "cell_type": "markdown",
      "source": [
        "**(b)**"
      ],
      "metadata": {
        "id": "zwNshBEpybba"
      }
    },
    {
      "cell_type": "code",
      "source": [
        "def monte_carlo_f_3(num_darts):\n",
        "    count_positive = 0\n",
        "    count_negative = 0\n",
        "\n",
        "    for i in range(num_darts):\n",
        "        x = random.uniform(2, 3)\n",
        "        y = random.uniform(-1, 1)\n",
        "\n",
        "        if y > 0 and y <= f_3(x):\n",
        "            count_positive += 1\n",
        "        elif y < 0 and y >= -f_3(x):\n",
        "            count_negative += 1\n",
        "\n",
        "    positive_area = (count_positive / num_darts)\n",
        "    negative_area = (count_negative / num_darts)\n",
        "\n",
        "    area = positive_area - negative_area\n",
        "    return area"
      ],
      "metadata": {
        "id": "bai9UP59yZxr"
      },
      "execution_count": null,
      "outputs": []
    },
    {
      "cell_type": "markdown",
      "source": [
        "**(c)**"
      ],
      "metadata": {
        "id": "1P33MH5XyeQV"
      }
    },
    {
      "cell_type": "code",
      "source": [
        "area_f3 = monte_carlo_f_3(1000)\n",
        "print(area_f3)"
      ],
      "metadata": {
        "colab": {
          "base_uri": "https://localhost:8080/"
        },
        "id": "4yw9X4PgyhMp",
        "outputId": "22577eb0-8c1f-4fff-80c6-18850837a299"
      },
      "execution_count": null,
      "outputs": [
        {
          "output_type": "stream",
          "name": "stdout",
          "text": [
            "0.015999999999999986\n"
          ]
        }
      ]
    },
    {
      "cell_type": "markdown",
      "source": [
        "**(d)**"
      ],
      "metadata": {
        "id": "2sUXHajYyh1N"
      }
    },
    {
      "cell_type": "code",
      "source": [
        "area_f3_int, x = integrate.quad(f_3, 2, 3)\n",
        "print(area_f3_int)"
      ],
      "metadata": {
        "colab": {
          "base_uri": "https://localhost:8080/"
        },
        "id": "BsXmfbjKyjrK",
        "outputId": "5d130b0a-a4f7-4bd7-ac63-92847beda090"
      },
      "execution_count": null,
      "outputs": [
        {
          "output_type": "stream",
          "name": "stdout",
          "text": [
            "-0.031213962449987042\n"
          ]
        }
      ]
    }
  ]
}