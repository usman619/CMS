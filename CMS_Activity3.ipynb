{
  "nbformat": 4,
  "nbformat_minor": 0,
  "metadata": {
    "colab": {
      "provenance": []
    },
    "kernelspec": {
      "name": "python3",
      "display_name": "Python 3"
    },
    "language_info": {
      "name": "python"
    }
  },
  "cells": [
    {
      "cell_type": "markdown",
      "source": [
        "<h3>\n",
        "Name: Muhammad Usman\n",
        "<br>\n",
        "Roll no: 19P-0116\n",
        "</h3>"
      ],
      "metadata": {
        "id": "PXfcsyFeZun-"
      }
    },
    {
      "cell_type": "markdown",
      "source": [
        "**1. Write code in a programming language of your choice to  simulate the random movement of an entity in North, South, East or West direction with probabilities of 20%, 30%, 45%, or 5%, respectively starting from the origin and taking m number of steps.**\n",
        "\n",
        "**2. Write code to simulate this random walk n number of times and find the average distance the entity covers across n number of walks.**\n",
        "\n",
        "**3. Change the value of the number of steps i.e. m and observe the change in average distance. Plot the average distance for different values of m.** "
      ],
      "metadata": {
        "id": "G2yLZtLHY8G7"
      }
    },
    {
      "cell_type": "code",
      "source": [
        "import random\n",
        "import math"
      ],
      "metadata": {
        "id": "zkN950-3khxZ"
      },
      "execution_count": null,
      "outputs": []
    },
    {
      "cell_type": "code",
      "source": [
        "def random_walk(m):\n",
        "    x1, x2, y1, y2 = 0, 0, 0, 0\n",
        "    distance = 0\n",
        "\n",
        "    for i in range(1, m + 1):\n",
        "        n = round(random.uniform(0, 1), 2)\n",
        "\n",
        "        if n < 0.05:\n",
        "            # Moving to West\n",
        "            x2 = x2 + 1\n",
        "            y2 = 0\n",
        "        elif n < 0.25:\n",
        "            # Moving to North (0.05 + 0.20 = 0.25)\n",
        "            x2 = 0\n",
        "            y2 = y2 + 1\n",
        "        elif n < 0.55:\n",
        "            # Moving to South (0.05 + 0.20 + 0.30 = 0.55)\n",
        "            x2 = 0\n",
        "            y2 = y2 - 1\n",
        "        else:\n",
        "            # Moving to East (0.05 + 0.20 + 0.30 + 0.45 = 1.00)\n",
        "            x2 = x2 - 1\n",
        "            y2 = 0\n",
        "\n",
        "        distance = distance + math.sqrt((x2 - x1) ** 2 + (y2 - y1) ** 2)\n",
        "\n",
        "\n",
        "        # Updating x1 and y1\n",
        "        x1 = x2\n",
        "        y1 = y2\n",
        "        x2 = 0\n",
        "        y2 = 0\n",
        "\n",
        "    average_distances = distance/m\n",
        "\n",
        "    return average_distances"
      ],
      "metadata": {
        "id": "PBJt9Eskja-d"
      },
      "execution_count": null,
      "outputs": []
    },
    {
      "cell_type": "code",
      "source": [
        "# Running for 1000 and 10000 iterations\n",
        "random_walk_1000 = random_walk(1000)\n",
        "random_walk_10000 = random_walk(10000)\n"
      ],
      "metadata": {
        "id": "A5oZRQ51kel2"
      },
      "execution_count": null,
      "outputs": []
    },
    {
      "cell_type": "code",
      "source": [
        "print('Random Walk 1000:', random_walk_1000)\n",
        "print('Random Walk 10000:', random_walk_10000)"
      ],
      "metadata": {
        "colab": {
          "base_uri": "https://localhost:8080/"
        },
        "id": "2eqCiYo7lUQ0",
        "outputId": "246f4509-3c2f-4bc8-abaf-1aca43ad58b9"
      },
      "execution_count": null,
      "outputs": [
        {
          "output_type": "stream",
          "name": "stdout",
          "text": [
            "Random Walk 1000: 1.023579869251971\n",
            "Random Walk 10000: 1.0344293208610411\n"
          ]
        }
      ]
    }
  ]
}